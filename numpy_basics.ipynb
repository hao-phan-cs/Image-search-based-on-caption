{
  "nbformat": 4,
  "nbformat_minor": 0,
  "metadata": {
    "colab": {
      "name": "Untitled",
      "version": "0.3.2",
      "provenance": [],
      "include_colab_link": true
    },
    "kernelspec": {
      "name": "python3",
      "display_name": "Python 3"
    }
  },
  "cells": [
    {
      "cell_type": "markdown",
      "metadata": {
        "id": "view-in-github",
        "colab_type": "text"
      },
      "source": [
        "<a href=\"https://colab.research.google.com/github/hao-phan-cs/Image-search-based-on-caption/blob/master/numpy_basics.ipynb\" target=\"_parent\"><img src=\"https://colab.research.google.com/assets/colab-badge.svg\" alt=\"Open In Colab\"/></a>"
      ]
    },
    {
      "cell_type": "markdown",
      "metadata": {
        "id": "U6HySA6EsnaX",
        "colab_type": "text"
      },
      "source": [
        "## Giới thiệu về NumPy"
      ]
    },
    {
      "cell_type": "markdown",
      "metadata": {
        "id": "KFq_Eioo33xc",
        "colab_type": "text"
      },
      "source": [
        "- NumPy là một thư viện của Python, sỡ hữu kiểu dữ liệu chính là NumPy array và các hàm hỗ trợ xử lí dữ liệu. Về cơ bản, NumPy arrays có bản chất tương tự như \"list\". Nhưng nó có các ưu điểm phục vụ cho việc thao tác, xử lí dữ liệu như nhanh hơn, tiện dụng hơn và tiêu hao ít bộ nhớ.\n",
        "- NumPy rất hữu ích cho việc tính toán các mảng nhiều chiều, có kích thước lớn với các hàm số đã được tối ưu áp dụng lên các mảng nhiều chiều đó, đặc biệt là các hàm số liên quan tới Đại Số Tuyến Tính."
      ]
    },
    {
      "cell_type": "markdown",
      "metadata": {
        "id": "_mvXc0Xg4FVj",
        "colab_type": "text"
      },
      "source": [
        "Sau khi đã cài đặt xong NumPy, chúng ta cần import nó để sử dụng như các thư viện khác của Python để sử dụng các hàm số của NumPy:\n",
        "\n",
        "\n"
      ]
    },
    {
      "cell_type": "code",
      "metadata": {
        "id": "x36aw55b4FDG",
        "colab_type": "code",
        "colab": {}
      },
      "source": [
        "import numpy as np"
      ],
      "execution_count": 0,
      "outputs": []
    },
    {
      "cell_type": "markdown",
      "metadata": {
        "id": "6qIBmUoT4x6C",
        "colab_type": "text"
      },
      "source": [
        "## Các thao tác chính với NumPy"
      ]
    },
    {
      "cell_type": "markdown",
      "metadata": {
        "id": "3nbqaSJl89ei",
        "colab_type": "text"
      },
      "source": [
        "### Khởi tạo vector"
      ]
    },
    {
      "cell_type": "markdown",
      "metadata": {
        "id": "zyx46tCX9uKC",
        "colab_type": "text"
      },
      "source": [
        "Trong NumPy, vector có thể được hiểu là mảng 1 chiều"
      ]
    },
    {
      "cell_type": "code",
      "metadata": {
        "id": "v6fvxug789Ir",
        "colab_type": "code",
        "outputId": "dc09bbc8-374e-429b-b7b8-51152c49404c",
        "colab": {
          "base_uri": "https://localhost:8080/",
          "height": 34
        }
      },
      "source": [
        "x = np.array([1, 2, 3])\n",
        "print(x)"
      ],
      "execution_count": 0,
      "outputs": [
        {
          "output_type": "stream",
          "text": [
            "[1 2 3]\n"
          ],
          "name": "stdout"
        }
      ]
    },
    {
      "cell_type": "code",
      "metadata": {
        "id": "sHDQv3Ra-_Hs",
        "colab_type": "code",
        "outputId": "372e7ef9-ce5d-47ca-fcb5-861818addf64",
        "colab": {
          "base_uri": "https://localhost:8080/",
          "height": 34
        }
      },
      "source": [
        "# kiểu dữ liệu numpy array\n",
        "type(x)"
      ],
      "execution_count": 0,
      "outputs": [
        {
          "output_type": "execute_result",
          "data": {
            "text/plain": [
              "numpy.ndarray"
            ]
          },
          "metadata": {
            "tags": []
          },
          "execution_count": 5
        }
      ]
    },
    {
      "cell_type": "code",
      "metadata": {
        "id": "v1Ij23ONABVl",
        "colab_type": "code",
        "outputId": "c8acaf0b-757f-463a-d181-00d53711302e",
        "colab": {
          "base_uri": "https://localhost:8080/",
          "height": 34
        }
      },
      "source": [
        "# kiểu dữ liệu của 1 phần tử trong numpy array\n",
        "type(x[0])"
      ],
      "execution_count": 0,
      "outputs": [
        {
          "output_type": "execute_result",
          "data": {
            "text/plain": [
              "numpy.int64"
            ]
          },
          "metadata": {
            "tags": []
          },
          "execution_count": 7
        }
      ]
    },
    {
      "cell_type": "code",
      "metadata": {
        "id": "loJFnncS5CsJ",
        "colab_type": "code",
        "colab": {}
      },
      "source": [
        "# Todo: thử khai báo vector  x = [1, 2, 3, 4, 5, 6, 7, 8, 9, 10]."
      ],
      "execution_count": 0,
      "outputs": []
    },
    {
      "cell_type": "code",
      "metadata": {
        "id": "L0L3ieroBGUQ",
        "colab_type": "code",
        "colab": {}
      },
      "source": [
        "# Khởi tạo vector toàn chứa giá trị 0 hoặc 1\n",
        "arr0 = np.zeros(5)"
      ],
      "execution_count": 0,
      "outputs": []
    }
  ]
}